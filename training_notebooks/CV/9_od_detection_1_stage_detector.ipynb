{
  "nbformat": 4,
  "nbformat_minor": 0,
  "metadata": {
    "accelerator": "GPU",
    "colab": {
      "name": "9 - od_detection_1_stage_detector.ipynb",
      "provenance": [],
      "collapsed_sections": [],
      "toc_visible": true
    },
    "kernelspec": {
      "display_name": "Python 3",
      "language": "python",
      "name": "python3"
    },
    "language_info": {
      "codemirror_mode": {
        "name": "ipython",
        "version": 3
      },
      "file_extension": ".py",
      "mimetype": "text/x-python",
      "name": "python",
      "nbconvert_exporter": "python",
      "pygments_lexer": "ipython3",
      "version": "3.7.3"
    },
    "widgets": {
      "application/vnd.jupyter.widget-state+json": {
        "c8721f59609f47d99c2f495160a151c3": {
          "model_module": "@jupyter-widgets/controls",
          "model_name": "HBoxModel",
          "state": {
            "_view_name": "HBoxView",
            "_dom_classes": [],
            "_model_name": "HBoxModel",
            "_view_module": "@jupyter-widgets/controls",
            "_model_module_version": "1.5.0",
            "_view_count": null,
            "_view_module_version": "1.5.0",
            "box_style": "",
            "layout": "IPY_MODEL_43240c83107e48aea889c788e440544f",
            "_model_module": "@jupyter-widgets/controls",
            "children": [
              "IPY_MODEL_8415fa7cda6e452191c3a3cea7156f10",
              "IPY_MODEL_1235e32307164f4793eef7f9a26999a1"
            ]
          }
        },
        "43240c83107e48aea889c788e440544f": {
          "model_module": "@jupyter-widgets/base",
          "model_name": "LayoutModel",
          "state": {
            "_view_name": "LayoutView",
            "grid_template_rows": null,
            "right": null,
            "justify_content": null,
            "_view_module": "@jupyter-widgets/base",
            "overflow": null,
            "_model_module_version": "1.2.0",
            "_view_count": null,
            "flex_flow": null,
            "width": null,
            "min_width": null,
            "border": null,
            "align_items": null,
            "bottom": null,
            "_model_module": "@jupyter-widgets/base",
            "top": null,
            "grid_column": null,
            "overflow_y": null,
            "overflow_x": null,
            "grid_auto_flow": null,
            "grid_area": null,
            "grid_template_columns": null,
            "flex": null,
            "_model_name": "LayoutModel",
            "justify_items": null,
            "grid_row": null,
            "max_height": null,
            "align_content": null,
            "visibility": null,
            "align_self": null,
            "height": null,
            "min_height": null,
            "padding": null,
            "grid_auto_rows": null,
            "grid_gap": null,
            "max_width": null,
            "order": null,
            "_view_module_version": "1.2.0",
            "grid_template_areas": null,
            "object_position": null,
            "object_fit": null,
            "grid_auto_columns": null,
            "margin": null,
            "display": null,
            "left": null
          }
        },
        "8415fa7cda6e452191c3a3cea7156f10": {
          "model_module": "@jupyter-widgets/controls",
          "model_name": "FloatProgressModel",
          "state": {
            "_view_name": "ProgressView",
            "style": "IPY_MODEL_95a6adcee9954e0fb69b69476be7b097",
            "_dom_classes": [],
            "description": "100%",
            "_model_name": "FloatProgressModel",
            "bar_style": "success",
            "max": 87306240,
            "_view_module": "@jupyter-widgets/controls",
            "_model_module_version": "1.5.0",
            "value": 87306240,
            "_view_count": null,
            "_view_module_version": "1.5.0",
            "orientation": "horizontal",
            "min": 0,
            "description_tooltip": null,
            "_model_module": "@jupyter-widgets/controls",
            "layout": "IPY_MODEL_67a5c7b8bc3b43fc8b83476eb5c8c5c1"
          }
        },
        "1235e32307164f4793eef7f9a26999a1": {
          "model_module": "@jupyter-widgets/controls",
          "model_name": "HTMLModel",
          "state": {
            "_view_name": "HTMLView",
            "style": "IPY_MODEL_581dfe81f90b4d2b94b6b84c45722fd9",
            "_dom_classes": [],
            "description": "",
            "_model_name": "HTMLModel",
            "placeholder": "​",
            "_view_module": "@jupyter-widgets/controls",
            "_model_module_version": "1.5.0",
            "value": " 83.3M/83.3M [00:00&lt;00:00, 149MB/s]",
            "_view_count": null,
            "_view_module_version": "1.5.0",
            "description_tooltip": null,
            "_model_module": "@jupyter-widgets/controls",
            "layout": "IPY_MODEL_971b76ae9c54428992729d4da6b2e012"
          }
        },
        "95a6adcee9954e0fb69b69476be7b097": {
          "model_module": "@jupyter-widgets/controls",
          "model_name": "ProgressStyleModel",
          "state": {
            "_view_name": "StyleView",
            "_model_name": "ProgressStyleModel",
            "description_width": "initial",
            "_view_module": "@jupyter-widgets/base",
            "_model_module_version": "1.5.0",
            "_view_count": null,
            "_view_module_version": "1.2.0",
            "bar_color": null,
            "_model_module": "@jupyter-widgets/controls"
          }
        },
        "67a5c7b8bc3b43fc8b83476eb5c8c5c1": {
          "model_module": "@jupyter-widgets/base",
          "model_name": "LayoutModel",
          "state": {
            "_view_name": "LayoutView",
            "grid_template_rows": null,
            "right": null,
            "justify_content": null,
            "_view_module": "@jupyter-widgets/base",
            "overflow": null,
            "_model_module_version": "1.2.0",
            "_view_count": null,
            "flex_flow": null,
            "width": null,
            "min_width": null,
            "border": null,
            "align_items": null,
            "bottom": null,
            "_model_module": "@jupyter-widgets/base",
            "top": null,
            "grid_column": null,
            "overflow_y": null,
            "overflow_x": null,
            "grid_auto_flow": null,
            "grid_area": null,
            "grid_template_columns": null,
            "flex": null,
            "_model_name": "LayoutModel",
            "justify_items": null,
            "grid_row": null,
            "max_height": null,
            "align_content": null,
            "visibility": null,
            "align_self": null,
            "height": null,
            "min_height": null,
            "padding": null,
            "grid_auto_rows": null,
            "grid_gap": null,
            "max_width": null,
            "order": null,
            "_view_module_version": "1.2.0",
            "grid_template_areas": null,
            "object_position": null,
            "object_fit": null,
            "grid_auto_columns": null,
            "margin": null,
            "display": null,
            "left": null
          }
        },
        "581dfe81f90b4d2b94b6b84c45722fd9": {
          "model_module": "@jupyter-widgets/controls",
          "model_name": "DescriptionStyleModel",
          "state": {
            "_view_name": "StyleView",
            "_model_name": "DescriptionStyleModel",
            "description_width": "",
            "_view_module": "@jupyter-widgets/base",
            "_model_module_version": "1.5.0",
            "_view_count": null,
            "_view_module_version": "1.2.0",
            "_model_module": "@jupyter-widgets/controls"
          }
        },
        "971b76ae9c54428992729d4da6b2e012": {
          "model_module": "@jupyter-widgets/base",
          "model_name": "LayoutModel",
          "state": {
            "_view_name": "LayoutView",
            "grid_template_rows": null,
            "right": null,
            "justify_content": null,
            "_view_module": "@jupyter-widgets/base",
            "overflow": null,
            "_model_module_version": "1.2.0",
            "_view_count": null,
            "flex_flow": null,
            "width": null,
            "min_width": null,
            "border": null,
            "align_items": null,
            "bottom": null,
            "_model_module": "@jupyter-widgets/base",
            "top": null,
            "grid_column": null,
            "overflow_y": null,
            "overflow_x": null,
            "grid_auto_flow": null,
            "grid_area": null,
            "grid_template_columns": null,
            "flex": null,
            "_model_name": "LayoutModel",
            "justify_items": null,
            "grid_row": null,
            "max_height": null,
            "align_content": null,
            "visibility": null,
            "align_self": null,
            "height": null,
            "min_height": null,
            "padding": null,
            "grid_auto_rows": null,
            "grid_gap": null,
            "max_width": null,
            "order": null,
            "_view_module_version": "1.2.0",
            "grid_template_areas": null,
            "object_position": null,
            "object_fit": null,
            "grid_auto_columns": null,
            "margin": null,
            "display": null,
            "left": null
          }
        }
      }
    }
  },
  "cells": [
    {
      "cell_type": "markdown",
      "metadata": {
        "id": "upET9igyKHx0"
      },
      "source": [
        "#Bounding Box Prediction from Scratch using PyTorch\n",
        "\n",
        "Object detection is a very popular task in Computer Vision, where, given an image, you predict (usually rectangular) boxes around objects present in the image and also recognize the types of objects. There could be multiple objects in your image and there are various state-of-the-art techniques and architectures to tackle this problem like [Faster-RCNN](https://arxiv.org/pdf/1506.01497.pdf) and [YOLO v3](https://pjreddie.com/media/files/papers/YOLOv3.pdf).\n",
        "This article talks about the case when there is only one object of interest present in an image. The focus here is more on how to read an image and its bounding box, resize and perform augmentations correctly, rather than on the model itself. The goal is to have a good grasp of the fundamental ideas behind object detection, which you can extend to get a better understanding of the more complex techniques."
      ]
    },
    {
      "cell_type": "markdown",
      "metadata": {
        "id": "qtWtaUgFwZbZ"
      },
      "source": [
        "# Road Signs Bounding Box Prediction using PyTorch\n",
        "\n",
        "<b>Problem Statement:</b> Predict bounding box around a Road sign in a given image and also predict the type of road sign.\n",
        "\n",
        "Problem Statement\n",
        "Given an image consisting of a road sign, predict a bounding box around the road sign and identify the type of road sign.\n",
        "There are four distinct classes these signs could belong to:\n",
        "\n",
        "1) Traffic Light\n",
        "\n",
        "2) Stop\n",
        "\n",
        "3) Speed Limit\n",
        "\n",
        "4) Crosswalk\n",
        "\n",
        "This is called a multi-task learning problem as it involves performing two tasks — \n",
        "\n",
        "1) regression to find the bounding box coordinates, \n",
        "\n",
        "2) classification to identify the type of road sign\n",
        "\n",
        "<b>Dataset:</b> https://www.kaggle.com/andrewmvd/road-sign-detection \n",
        "\n",
        "(title= Road Signs Dataset ,<br>\n",
        "url= https://makeml.app/datasets/road-signs,<br>\n",
        "journal= Make ML)<br>\n"
      ]
    },
    {
      "cell_type": "code",
      "metadata": {
        "id": "p4nOM_XLwZba"
      },
      "source": [
        "#library imports\n",
        "import os\n",
        "import random\n",
        "import math\n",
        "from datetime import datetime\n",
        "from collections import Counter\n",
        "import pandas as pd\n",
        "import numpy as np\n",
        "\n",
        "import cv2\n",
        "from PIL import Image\n",
        "from pathlib import Path\n",
        "import matplotlib.pyplot as plt\n",
        "from matplotlib.patches import Rectangle\n",
        "from sklearn.model_selection import train_test_split\n",
        "import xml.etree.ElementTree as ET\n",
        "\n",
        "import torch\n",
        "from torch.utils.data import Dataset, DataLoader\n",
        "import torch.optim as optim\n",
        "import torch.nn as nn\n",
        "import torch.nn.functional as F\n",
        "from torchvision import models"
      ],
      "execution_count": 1,
      "outputs": []
    },
    {
      "cell_type": "code",
      "metadata": {
        "id": "QznGIxLf7CLS"
      },
      "source": [
        "%reload_ext autoreload\n",
        "%autoreload 2\n",
        "%matplotlib inline"
      ],
      "execution_count": 2,
      "outputs": []
    },
    {
      "cell_type": "code",
      "metadata": {
        "id": "wD90XygxyEHR"
      },
      "source": [
        "#!unzip road_signs.zip\n",
        "!pip install opendatasets --upgrade --quiet\n",
        "import opendatasets as od"
      ],
      "execution_count": 3,
      "outputs": []
    },
    {
      "cell_type": "code",
      "metadata": {
        "colab": {
          "base_uri": "https://localhost:8080/"
        },
        "id": "-6wVI0gZ7lLE",
        "outputId": "b6ae02d0-dc27-46a6-f7b5-b8cf3f2a2a58"
      },
      "source": [
        "dataset_url = 'https://www.kaggle.com/andrewmvd/road-sign-detection'\n",
        "od.download(dataset_url)"
      ],
      "execution_count": 4,
      "outputs": [
        {
          "output_type": "stream",
          "text": [
            "Please provide your Kaggle credentials to download this dataset. Learn more: http://bit.ly/kaggle-creds\n",
            "Your Kaggle username: x3smileyxd\n",
            "Your Kaggle Key: ··········\n"
          ],
          "name": "stdout"
        },
        {
          "output_type": "stream",
          "text": [
            "  2%|▏         | 5.00M/218M [00:00<00:06, 32.6MB/s]"
          ],
          "name": "stderr"
        },
        {
          "output_type": "stream",
          "text": [
            "Downloading road-sign-detection.zip to ./road-sign-detection\n"
          ],
          "name": "stdout"
        },
        {
          "output_type": "stream",
          "text": [
            "100%|██████████| 218M/218M [00:02<00:00, 85.0MB/s]\n"
          ],
          "name": "stderr"
        },
        {
          "output_type": "stream",
          "text": [
            "\n"
          ],
          "name": "stdout"
        }
      ]
    },
    {
      "cell_type": "markdown",
      "metadata": {
        "id": "lDLQ2N6fwZbh"
      },
      "source": [
        "## Loading the data"
      ]
    },
    {
      "cell_type": "code",
      "metadata": {
        "id": "mBMjs4lV7z33"
      },
      "source": [
        "images_path = Path('./road-sign-detection/images')\n",
        "anno_path = Path('./road-sign-detection/annotations')"
      ],
      "execution_count": 5,
      "outputs": []
    },
    {
      "cell_type": "code",
      "metadata": {
        "id": "V3GHkrtN-kOF"
      },
      "source": [
        "filelist = []\n",
        "for directory_path, directory_name, files in os.walk(anno_path):\n",
        "  for f in files:\n",
        "    if f.endswith('.xml'):\n",
        "      filelist.append(os.path.join(directory_path, f))"
      ],
      "execution_count": 6,
      "outputs": []
    },
    {
      "cell_type": "code",
      "metadata": {
        "id": "6NBOt5ak7f6w"
      },
      "source": [
        "def filelist(root, file_type):\n",
        "    \"\"\"Returns a fully-qualified list of filenames under root directory\"\"\"\n",
        "    return [os.path.join(directory_path, f) for directory_path, directory_name, \n",
        "            files in os.walk(root) for f in files if f.endswith(file_type)]\n",
        "\n",
        "def generate_train_df (anno_path):\n",
        "    annotations = filelist(anno_path, '.xml')\n",
        "    anno_list = []\n",
        "    for anno_path in annotations:\n",
        "        root = ET.parse(anno_path).getroot()\n",
        "        anno = {}\n",
        "        anno['filename'] = Path(str(images_path) + '/'+ root.find(\"./filename\").text)\n",
        "        anno['width'] = root.find(\"./size/width\").text\n",
        "        anno['height'] = root.find(\"./size/height\").text\n",
        "        anno['class'] = root.find(\"./object/name\").text\n",
        "        anno['xmin'] = int(root.find(\"./object/bndbox/xmin\").text)\n",
        "        anno['ymin'] = int(root.find(\"./object/bndbox/ymin\").text)\n",
        "        anno['xmax'] = int(root.find(\"./object/bndbox/xmax\").text)\n",
        "        anno['ymax'] = int(root.find(\"./object/bndbox/ymax\").text)\n",
        "        anno_list.append(anno)\n",
        "    return pd.DataFrame(anno_list)"
      ],
      "execution_count": 7,
      "outputs": []
    },
    {
      "cell_type": "code",
      "metadata": {
        "id": "B8qxVX0YwZbt",
        "colab": {
          "base_uri": "https://localhost:8080/",
          "height": 419
        },
        "outputId": "88f7966c-332f-45d7-eebd-8f4161509093"
      },
      "source": [
        "df_train = generate_train_df(anno_path)\n",
        "df_train"
      ],
      "execution_count": 8,
      "outputs": [
        {
          "output_type": "execute_result",
          "data": {
            "text/html": [
              "<div>\n",
              "<style scoped>\n",
              "    .dataframe tbody tr th:only-of-type {\n",
              "        vertical-align: middle;\n",
              "    }\n",
              "\n",
              "    .dataframe tbody tr th {\n",
              "        vertical-align: top;\n",
              "    }\n",
              "\n",
              "    .dataframe thead th {\n",
              "        text-align: right;\n",
              "    }\n",
              "</style>\n",
              "<table border=\"1\" class=\"dataframe\">\n",
              "  <thead>\n",
              "    <tr style=\"text-align: right;\">\n",
              "      <th></th>\n",
              "      <th>filename</th>\n",
              "      <th>width</th>\n",
              "      <th>height</th>\n",
              "      <th>class</th>\n",
              "      <th>xmin</th>\n",
              "      <th>ymin</th>\n",
              "      <th>xmax</th>\n",
              "      <th>ymax</th>\n",
              "    </tr>\n",
              "  </thead>\n",
              "  <tbody>\n",
              "    <tr>\n",
              "      <th>0</th>\n",
              "      <td>road-sign-detection/images/road186.png</td>\n",
              "      <td>300</td>\n",
              "      <td>400</td>\n",
              "      <td>crosswalk</td>\n",
              "      <td>192</td>\n",
              "      <td>168</td>\n",
              "      <td>220</td>\n",
              "      <td>197</td>\n",
              "    </tr>\n",
              "    <tr>\n",
              "      <th>1</th>\n",
              "      <td>road-sign-detection/images/road514.png</td>\n",
              "      <td>300</td>\n",
              "      <td>400</td>\n",
              "      <td>speedlimit</td>\n",
              "      <td>176</td>\n",
              "      <td>148</td>\n",
              "      <td>206</td>\n",
              "      <td>177</td>\n",
              "    </tr>\n",
              "    <tr>\n",
              "      <th>2</th>\n",
              "      <td>road-sign-detection/images/road660.png</td>\n",
              "      <td>300</td>\n",
              "      <td>400</td>\n",
              "      <td>speedlimit</td>\n",
              "      <td>132</td>\n",
              "      <td>189</td>\n",
              "      <td>193</td>\n",
              "      <td>250</td>\n",
              "    </tr>\n",
              "    <tr>\n",
              "      <th>3</th>\n",
              "      <td>road-sign-detection/images/road405.png</td>\n",
              "      <td>300</td>\n",
              "      <td>400</td>\n",
              "      <td>speedlimit</td>\n",
              "      <td>150</td>\n",
              "      <td>262</td>\n",
              "      <td>174</td>\n",
              "      <td>286</td>\n",
              "    </tr>\n",
              "    <tr>\n",
              "      <th>4</th>\n",
              "      <td>road-sign-detection/images/road222.png</td>\n",
              "      <td>300</td>\n",
              "      <td>400</td>\n",
              "      <td>speedlimit</td>\n",
              "      <td>154</td>\n",
              "      <td>188</td>\n",
              "      <td>168</td>\n",
              "      <td>201</td>\n",
              "    </tr>\n",
              "    <tr>\n",
              "      <th>...</th>\n",
              "      <td>...</td>\n",
              "      <td>...</td>\n",
              "      <td>...</td>\n",
              "      <td>...</td>\n",
              "      <td>...</td>\n",
              "      <td>...</td>\n",
              "      <td>...</td>\n",
              "      <td>...</td>\n",
              "    </tr>\n",
              "    <tr>\n",
              "      <th>872</th>\n",
              "      <td>road-sign-detection/images/road785.png</td>\n",
              "      <td>300</td>\n",
              "      <td>400</td>\n",
              "      <td>speedlimit</td>\n",
              "      <td>74</td>\n",
              "      <td>65</td>\n",
              "      <td>168</td>\n",
              "      <td>160</td>\n",
              "    </tr>\n",
              "    <tr>\n",
              "      <th>873</th>\n",
              "      <td>road-sign-detection/images/road620.png</td>\n",
              "      <td>300</td>\n",
              "      <td>400</td>\n",
              "      <td>speedlimit</td>\n",
              "      <td>123</td>\n",
              "      <td>222</td>\n",
              "      <td>150</td>\n",
              "      <td>250</td>\n",
              "    </tr>\n",
              "    <tr>\n",
              "      <th>874</th>\n",
              "      <td>road-sign-detection/images/road171.png</td>\n",
              "      <td>300</td>\n",
              "      <td>400</td>\n",
              "      <td>crosswalk</td>\n",
              "      <td>138</td>\n",
              "      <td>209</td>\n",
              "      <td>165</td>\n",
              "      <td>245</td>\n",
              "    </tr>\n",
              "    <tr>\n",
              "      <th>875</th>\n",
              "      <td>road-sign-detection/images/road226.png</td>\n",
              "      <td>300</td>\n",
              "      <td>400</td>\n",
              "      <td>speedlimit</td>\n",
              "      <td>134</td>\n",
              "      <td>175</td>\n",
              "      <td>156</td>\n",
              "      <td>197</td>\n",
              "    </tr>\n",
              "    <tr>\n",
              "      <th>876</th>\n",
              "      <td>road-sign-detection/images/road271.png</td>\n",
              "      <td>300</td>\n",
              "      <td>400</td>\n",
              "      <td>speedlimit</td>\n",
              "      <td>127</td>\n",
              "      <td>170</td>\n",
              "      <td>172</td>\n",
              "      <td>215</td>\n",
              "    </tr>\n",
              "  </tbody>\n",
              "</table>\n",
              "<p>877 rows × 8 columns</p>\n",
              "</div>"
            ],
            "text/plain": [
              "                                   filename width height  ... ymin  xmax  ymax\n",
              "0    road-sign-detection/images/road186.png   300    400  ...  168   220   197\n",
              "1    road-sign-detection/images/road514.png   300    400  ...  148   206   177\n",
              "2    road-sign-detection/images/road660.png   300    400  ...  189   193   250\n",
              "3    road-sign-detection/images/road405.png   300    400  ...  262   174   286\n",
              "4    road-sign-detection/images/road222.png   300    400  ...  188   168   201\n",
              "..                                      ...   ...    ...  ...  ...   ...   ...\n",
              "872  road-sign-detection/images/road785.png   300    400  ...   65   168   160\n",
              "873  road-sign-detection/images/road620.png   300    400  ...  222   150   250\n",
              "874  road-sign-detection/images/road171.png   300    400  ...  209   165   245\n",
              "875  road-sign-detection/images/road226.png   300    400  ...  175   156   197\n",
              "876  road-sign-detection/images/road271.png   300    400  ...  170   172   215\n",
              "\n",
              "[877 rows x 8 columns]"
            ]
          },
          "metadata": {
            "tags": []
          },
          "execution_count": 8
        }
      ]
    },
    {
      "cell_type": "code",
      "metadata": {
        "id": "tIT8gk1GwZbz"
      },
      "source": [
        "#label encode target\n",
        "class_dict = {'speedlimit': 0, 'stop': 1, 'crosswalk': 2, 'trafficlight': 3}\n",
        "df_train['class'] = df_train['class'].apply(lambda x:  class_dict[x])"
      ],
      "execution_count": 9,
      "outputs": []
    },
    {
      "cell_type": "code",
      "metadata": {
        "id": "6orqOVH7wZb1",
        "colab": {
          "base_uri": "https://localhost:8080/",
          "height": 221
        },
        "outputId": "1e3ecaaf-93c4-4a67-9b8a-6e0d541825b0"
      },
      "source": [
        "print(df_train.shape)\n",
        "df_train.sample(5)"
      ],
      "execution_count": 10,
      "outputs": [
        {
          "output_type": "stream",
          "text": [
            "(877, 8)\n"
          ],
          "name": "stdout"
        },
        {
          "output_type": "execute_result",
          "data": {
            "text/html": [
              "<div>\n",
              "<style scoped>\n",
              "    .dataframe tbody tr th:only-of-type {\n",
              "        vertical-align: middle;\n",
              "    }\n",
              "\n",
              "    .dataframe tbody tr th {\n",
              "        vertical-align: top;\n",
              "    }\n",
              "\n",
              "    .dataframe thead th {\n",
              "        text-align: right;\n",
              "    }\n",
              "</style>\n",
              "<table border=\"1\" class=\"dataframe\">\n",
              "  <thead>\n",
              "    <tr style=\"text-align: right;\">\n",
              "      <th></th>\n",
              "      <th>filename</th>\n",
              "      <th>width</th>\n",
              "      <th>height</th>\n",
              "      <th>class</th>\n",
              "      <th>xmin</th>\n",
              "      <th>ymin</th>\n",
              "      <th>xmax</th>\n",
              "      <th>ymax</th>\n",
              "    </tr>\n",
              "  </thead>\n",
              "  <tbody>\n",
              "    <tr>\n",
              "      <th>702</th>\n",
              "      <td>road-sign-detection/images/road550.png</td>\n",
              "      <td>300</td>\n",
              "      <td>400</td>\n",
              "      <td>0</td>\n",
              "      <td>124</td>\n",
              "      <td>169</td>\n",
              "      <td>181</td>\n",
              "      <td>226</td>\n",
              "    </tr>\n",
              "    <tr>\n",
              "      <th>103</th>\n",
              "      <td>road-sign-detection/images/road91.png</td>\n",
              "      <td>400</td>\n",
              "      <td>400</td>\n",
              "      <td>1</td>\n",
              "      <td>155</td>\n",
              "      <td>243</td>\n",
              "      <td>247</td>\n",
              "      <td>358</td>\n",
              "    </tr>\n",
              "    <tr>\n",
              "      <th>820</th>\n",
              "      <td>road-sign-detection/images/road407.png</td>\n",
              "      <td>300</td>\n",
              "      <td>400</td>\n",
              "      <td>0</td>\n",
              "      <td>167</td>\n",
              "      <td>219</td>\n",
              "      <td>179</td>\n",
              "      <td>230</td>\n",
              "    </tr>\n",
              "    <tr>\n",
              "      <th>71</th>\n",
              "      <td>road-sign-detection/images/road855.png</td>\n",
              "      <td>300</td>\n",
              "      <td>400</td>\n",
              "      <td>0</td>\n",
              "      <td>94</td>\n",
              "      <td>86</td>\n",
              "      <td>134</td>\n",
              "      <td>125</td>\n",
              "    </tr>\n",
              "    <tr>\n",
              "      <th>426</th>\n",
              "      <td>road-sign-detection/images/road113.png</td>\n",
              "      <td>400</td>\n",
              "      <td>274</td>\n",
              "      <td>0</td>\n",
              "      <td>171</td>\n",
              "      <td>38</td>\n",
              "      <td>307</td>\n",
              "      <td>186</td>\n",
              "    </tr>\n",
              "  </tbody>\n",
              "</table>\n",
              "</div>"
            ],
            "text/plain": [
              "                                   filename width height  ...  ymin  xmax  ymax\n",
              "702  road-sign-detection/images/road550.png   300    400  ...   169   181   226\n",
              "103   road-sign-detection/images/road91.png   400    400  ...   243   247   358\n",
              "820  road-sign-detection/images/road407.png   300    400  ...   219   179   230\n",
              "71   road-sign-detection/images/road855.png   300    400  ...    86   134   125\n",
              "426  road-sign-detection/images/road113.png   400    274  ...    38   307   186\n",
              "\n",
              "[5 rows x 8 columns]"
            ]
          },
          "metadata": {
            "tags": []
          },
          "execution_count": 10
        }
      ]
    },
    {
      "cell_type": "markdown",
      "metadata": {
        "id": "B8HWQS2cwZb4"
      },
      "source": [
        "## Resizing images and bounding boxes"
      ]
    },
    {
      "cell_type": "code",
      "metadata": {
        "id": "FZBjJdOOwZb4"
      },
      "source": [
        "# Reading an image\n",
        "def read_image(path):\n",
        "    # print(cv2.cvtColor(cv2.imread(str(path)), cv2.COLOR_BGR2RGB))\n",
        "    return cv2.cvtColor(cv2.imread(str(path)), cv2.COLOR_BGR2RGB)"
      ],
      "execution_count": 11,
      "outputs": []
    },
    {
      "cell_type": "code",
      "metadata": {
        "id": "2rycTryjwZb7"
      },
      "source": [
        "def create_mask(bb, x):\n",
        "    \"\"\"Creates a mask for the bounding box of same shape as image\"\"\"\n",
        "    rows,cols,*_ = x.shape\n",
        "    Y = np.zeros((rows, cols))\n",
        "    bb = bb.astype(np.int) # cast a pandas object to a specified dtype\n",
        "    Y[bb[0]:bb[2], bb[1]:bb[3]] = 1.\n",
        "    return Y\n",
        "\n",
        "def mask_to_bb(Y):\n",
        "    \"\"\"Convert mask Y to a bounding box, assumes 0 as background nonzero object\"\"\"\n",
        "    cols, rows = np.nonzero(Y) # returns a tuple of arrays, one for each dimension of arr, containing the indices of the non-zero elements in that dimension\n",
        "    if len(cols)==0: \n",
        "        return np.zeros(4, dtype=np.float32)\n",
        "    top_row = np.min(rows)\n",
        "    left_col = np.min(cols)\n",
        "    bottom_row = np.max(rows)\n",
        "    right_col = np.max(cols)\n",
        "    return np.array([left_col, top_row, right_col, bottom_row], dtype=np.float32)\n",
        "\n",
        "def create_bb_array(x):\n",
        "    \"\"\"Generates bounding box array from a train_df row\"\"\"\n",
        "    return np.array([x[5],x[4],x[7],x[6]])"
      ],
      "execution_count": 12,
      "outputs": []
    },
    {
      "cell_type": "code",
      "metadata": {
        "id": "RAlHlbJQ-N_X"
      },
      "source": [
        "def resize_image_bb(read_path,write_path,bb,sz):\n",
        "    \"\"\"Resize an image and its bounding box and write image to new path\"\"\"\n",
        "    im = read_image(read_path)\n",
        "    im_resized = cv2.resize(im, (int(1.49*sz), sz))\n",
        "    Y_resized = cv2.resize(create_mask(bb, im), (int(1.49*sz), sz))\n",
        "    new_path = str(write_path/read_path.parts[-1])\n",
        "    cv2.imwrite(new_path, cv2.cvtColor(im_resized, cv2.COLOR_RGB2BGR))\n",
        "    return new_path, mask_to_bb(Y_resized)"
      ],
      "execution_count": 13,
      "outputs": []
    },
    {
      "cell_type": "code",
      "metadata": {
        "id": "X9kfV9my-Ovx"
      },
      "source": [
        "# Populating Training DF with new paths and bounding boxes\n",
        "new_paths = []\n",
        "new_bbs = []\n",
        "train_path_resized = Path('./road-sign-detection/images_resized')\n",
        "if not os.path.isdir( train_path_resized ) :\n",
        "    os.mkdir( train_path_resized )  # make sure the directory exists\n",
        "for index, row in df_train.iterrows():\n",
        "    new_path, new_bb = resize_image_bb(row['filename'], train_path_resized, create_bb_array(row.values),300)\n",
        "    new_paths.append(new_path)\n",
        "    new_bbs.append(new_bb)\n",
        "df_train['new_path'] = new_paths\n",
        "df_train['new_bb'] = new_bbs"
      ],
      "execution_count": 14,
      "outputs": []
    },
    {
      "cell_type": "markdown",
      "metadata": {
        "id": "c_eLeFKs8Ssk"
      },
      "source": [
        "### Sample Image"
      ]
    },
    {
      "cell_type": "code",
      "metadata": {
        "id": "8njg0NkIwZcA",
        "colab": {
          "base_uri": "https://localhost:8080/"
        },
        "outputId": "05487265-5c9f-48dd-9e45-91490b30699b"
      },
      "source": [
        "im = cv2.imread(str(df_train.values[0][0]))\n",
        "bb = create_bb_array(df_train.values[0])\n",
        "print(im.shape)"
      ],
      "execution_count": 15,
      "outputs": [
        {
          "output_type": "stream",
          "text": [
            "(400, 300, 3)\n"
          ],
          "name": "stdout"
        }
      ]
    },
    {
      "cell_type": "code",
      "metadata": {
        "id": "FrCEocRFwZcC",
        "colab": {
          "base_uri": "https://localhost:8080/"
        },
        "outputId": "ff5a84c9-9b0d-484b-e0d6-93f5745a4e83"
      },
      "source": [
        "Y = create_mask(bb, im)\n",
        "mask_to_bb(Y)"
      ],
      "execution_count": 16,
      "outputs": [
        {
          "output_type": "execute_result",
          "data": {
            "text/plain": [
              "array([168., 192., 196., 219.], dtype=float32)"
            ]
          },
          "metadata": {
            "tags": []
          },
          "execution_count": 16
        }
      ]
    },
    {
      "cell_type": "code",
      "metadata": {
        "id": "SuMJ5XjZwZcE",
        "colab": {
          "base_uri": "https://localhost:8080/",
          "height": 286
        },
        "outputId": "648735c9-eae7-4354-cd11-b829090e29fa"
      },
      "source": [
        "plt.imshow(im)"
      ],
      "execution_count": 17,
      "outputs": [
        {
          "output_type": "execute_result",
          "data": {
            "text/plain": [
              "<matplotlib.image.AxesImage at 0x7fafd6594ad0>"
            ]
          },
          "metadata": {
            "tags": []
          },
          "execution_count": 17
        },
        {
          "output_type": "display_data",
          "data": {
            "image/png": "[encoded data removed]",
            "text/plain": [
              "<Figure size 432x288 with 1 Axes>"
            ]
          },
          "metadata": {
            "tags": [],
            "needs_background": "light"
          }
        }
      ]
    },
    {
      "cell_type": "code",
      "metadata": {
        "id": "99k7g-lnwZcH",
        "colab": {
          "base_uri": "https://localhost:8080/",
          "height": 286
        },
        "outputId": "3f718216-fa38-4a5d-9c67-46f89b5f9562"
      },
      "source": [
        "plt.imshow(Y, cmap='gray')"
      ],
      "execution_count": 18,
      "outputs": [
        {
          "output_type": "execute_result",
          "data": {
            "text/plain": [
              "<matplotlib.image.AxesImage at 0x7fafd46e3f50>"
            ]
          },
          "metadata": {
            "tags": []
          },
          "execution_count": 18
        },
        {
          "output_type": "display_data",
          "data": {
            "image/png": "[encoded data removed]",
            "text/plain": [
              "<Figure size 432x288 with 1 Axes>"
            ]
          },
          "metadata": {
            "tags": [],
            "needs_background": "light"
          }
        }
      ]
    },
    {
      "cell_type": "code",
      "metadata": {
        "id": "qNlvsFM94ox0",
        "colab": {
          "base_uri": "https://localhost:8080/"
        },
        "outputId": "36457eb2-d4b7-461c-8051-068c196c7f95"
      },
      "source": [
        "df_train.loc[0]"
      ],
      "execution_count": 19,
      "outputs": [
        {
          "output_type": "execute_result",
          "data": {
            "text/plain": [
              "filename            road-sign-detection/images/road186.png\n",
              "width                                                  300\n",
              "height                                                 400\n",
              "class                                                    2\n",
              "xmin                                                   192\n",
              "ymin                                                   168\n",
              "xmax                                                   220\n",
              "ymax                                                   197\n",
              "new_path    road-sign-detection/images_resized/road186.png\n",
              "new_bb                        [126.0, 285.0, 147.0, 328.0]\n",
              "Name: 0, dtype: object"
            ]
          },
          "metadata": {
            "tags": []
          },
          "execution_count": 19
        }
      ]
    },
    {
      "cell_type": "markdown",
      "metadata": {
        "id": "gz4XFUZUwZcP"
      },
      "source": [
        "## Data augmentation\n",
        "\n",
        "Functions in this section borrowed and modified from https://www.usfca.edu/data-institute/certificates/fundamentals-deep-learning "
      ]
    },
    {
      "cell_type": "code",
      "metadata": {
        "id": "XcK1y_ZHwZcQ"
      },
      "source": [
        "# modified from fast.ai\n",
        "def crop(im, r, c, target_r, target_c): \n",
        "    return im[r:r+target_r, c:c+target_c]\n",
        "\n",
        "# random crop to the original size\n",
        "def random_crop(x, r_pix=8):\n",
        "    \"\"\" Returns a random crop\"\"\"\n",
        "    r, c,*_ = x.shape\n",
        "    c_pix = round(r_pix*c/r)\n",
        "    rand_r = random.uniform(0, 1)\n",
        "    rand_c = random.uniform(0, 1)\n",
        "    start_r = np.floor(2*rand_r*r_pix).astype(int)\n",
        "    start_c = np.floor(2*rand_c*c_pix).astype(int)\n",
        "    return crop(x, start_r, start_c, r-2*r_pix, c-2*c_pix)\n",
        "\n",
        "def center_crop(x, r_pix=8):\n",
        "    r, c,*_ = x.shape\n",
        "    c_pix = round(r_pix*c/r)\n",
        "    return crop(x, r_pix, c_pix, r-2*r_pix, c-2*c_pix)"
      ],
      "execution_count": 20,
      "outputs": []
    },
    {
      "cell_type": "code",
      "metadata": {
        "id": "ePieNgL0wZcU"
      },
      "source": [
        "def rotate_cv(im, deg, y=False, mode=cv2.BORDER_REFLECT, interpolation=cv2.INTER_AREA):\n",
        "    \"\"\" Rotates an image by deg degrees\"\"\"\n",
        "    r,c,*_ = im.shape\n",
        "    M = cv2.getRotationMatrix2D((c/2,r/2),deg,1)\n",
        "    if y:\n",
        "        return cv2.warpAffine(im, M,(c,r), borderMode=cv2.BORDER_CONSTANT)\n",
        "    return cv2.warpAffine(im,M,(c,r), borderMode=mode, flags=cv2.WARP_FILL_OUTLIERS+interpolation)\n",
        "\n",
        "def random_cropXY(x, Y, r_pix=8):\n",
        "    \"\"\" Returns a random crop\"\"\"\n",
        "    r, c,*_ = x.shape\n",
        "    c_pix = round(r_pix*c/r)\n",
        "    rand_r = random.uniform(0, 1)\n",
        "    rand_c = random.uniform(0, 1)\n",
        "    start_r = np.floor(2*rand_r*r_pix).astype(int)\n",
        "    start_c = np.floor(2*rand_c*c_pix).astype(int)\n",
        "    xx = crop(x, start_r, start_c, r-2*r_pix, c-2*c_pix)\n",
        "    YY = crop(Y, start_r, start_c, r-2*r_pix, c-2*c_pix)\n",
        "    return xx, YY\n",
        "\n",
        "def transformsXY(path, bb, transforms):\n",
        "    x = cv2.imread(str(path)).astype(np.float32)\n",
        "    x = cv2.cvtColor(x, cv2.COLOR_BGR2RGB)/255\n",
        "    Y = create_mask(bb, x)\n",
        "    if transforms:\n",
        "        rdeg = (np.random.random()-.50)*20\n",
        "        x = rotate_cv(x, rdeg)\n",
        "        Y = rotate_cv(Y, rdeg, y=True)\n",
        "        if np.random.random() > 0.5: \n",
        "            x = np.fliplr(x).copy()\n",
        "            Y = np.fliplr(Y).copy()\n",
        "        x, Y = random_cropXY(x, Y)\n",
        "    else:\n",
        "        x, Y = center_crop(x), center_crop(Y)\n",
        "    return x, mask_to_bb(Y)"
      ],
      "execution_count": 21,
      "outputs": []
    },
    {
      "cell_type": "code",
      "metadata": {
        "id": "RoQPtZ99wZcb"
      },
      "source": [
        "def create_corner_rect(bb, color='red'):\n",
        "    bb = np.array(bb, dtype=np.float32)\n",
        "    return plt.Rectangle((bb[1], bb[0]), bb[3]-bb[1], bb[2]-bb[0], color=color,\n",
        "                         fill=False, lw=3)\n",
        "\n",
        "def show_corner_bb(im, bb):\n",
        "    plt.imshow(im)\n",
        "    plt.gca().add_patch(create_corner_rect(bb))"
      ],
      "execution_count": 22,
      "outputs": []
    },
    {
      "cell_type": "code",
      "metadata": {
        "id": "bTcwd4Uq6IV8",
        "colab": {
          "base_uri": "https://localhost:8080/"
        },
        "outputId": "b89c491e-4e35-47bb-d05b-cda31eb5cef3"
      },
      "source": [
        "df_train.loc[68]"
      ],
      "execution_count": 23,
      "outputs": [
        {
          "output_type": "execute_result",
          "data": {
            "text/plain": [
              "filename            road-sign-detection/images/road452.png\n",
              "width                                                  300\n",
              "height                                                 400\n",
              "class                                                    0\n",
              "xmin                                                    94\n",
              "ymin                                                   164\n",
              "xmax                                                   167\n",
              "ymax                                                   238\n",
              "new_path    road-sign-detection/images_resized/road452.png\n",
              "new_bb                        [123.0, 139.0, 178.0, 249.0]\n",
              "Name: 68, dtype: object"
            ]
          },
          "metadata": {
            "tags": []
          },
          "execution_count": 23
        }
      ]
    },
    {
      "cell_type": "code",
      "metadata": {
        "id": "4FgonUKZv-ii",
        "colab": {
          "base_uri": "https://localhost:8080/"
        },
        "outputId": "828371fa-d0f2-4b0c-9c7f-974862626690"
      },
      "source": [
        "df_train.values[68][9]"
      ],
      "execution_count": 24,
      "outputs": [
        {
          "output_type": "execute_result",
          "data": {
            "text/plain": [
              "array([123., 139., 178., 249.], dtype=float32)"
            ]
          },
          "metadata": {
            "tags": []
          },
          "execution_count": 24
        }
      ]
    },
    {
      "cell_type": "markdown",
      "metadata": {
        "id": "I8g4xvpKA2RY"
      },
      "source": [
        "### Sample Image"
      ]
    },
    {
      "cell_type": "code",
      "metadata": {
        "id": "xDiPcTw9wZcg",
        "colab": {
          "base_uri": "https://localhost:8080/",
          "height": 269
        },
        "outputId": "83f1f6df-67aa-46cc-c7f8-b615e7578f71"
      },
      "source": [
        "# original\n",
        "im = read_image(str(df_train.values[101][0]))\n",
        "im = cv2.cvtColor(im, cv2.COLOR_BGR2RGB)\n",
        "show_corner_bb(im, df_train.values[101][-1])"
      ],
      "execution_count": 25,
      "outputs": [
        {
          "output_type": "display_data",
          "data": {
            "image/png": "[encoded data removed]",
            "text/plain": [
              "<Figure size 432x288 with 1 Axes>"
            ]
          },
          "metadata": {
            "tags": [],
            "needs_background": "light"
          }
        }
      ]
    },
    {
      "cell_type": "code",
      "metadata": {
        "id": "RY2VeF8jhMw8",
        "colab": {
          "base_uri": "https://localhost:8080/",
          "height": 269
        },
        "outputId": "7a1c5d66-8b49-4563-acab-9755e93a6b06"
      },
      "source": [
        "# after transformation\n",
        "im, bb = transformsXY(str(df_train.values[101][-2]),df_train.values[101][-1],True)\n",
        "show_corner_bb(im, bb)"
      ],
      "execution_count": 26,
      "outputs": [
        {
          "output_type": "display_data",
          "data": {
            "image/png": "[encoded data removed]",
            "text/plain": [
              "<Figure size 432x288 with 1 Axes>"
            ]
          },
          "metadata": {
            "tags": [],
            "needs_background": "light"
          }
        }
      ]
    },
    {
      "cell_type": "code",
      "metadata": {
        "id": "KY8qx709wZck"
      },
      "source": [
        "df_train = df_train.reset_index()"
      ],
      "execution_count": 27,
      "outputs": []
    },
    {
      "cell_type": "code",
      "metadata": {
        "id": "VFoNnEP3wZcn"
      },
      "source": [
        "X = df_train[['new_path', 'new_bb']]\n",
        "Y = df_train['class']"
      ],
      "execution_count": 28,
      "outputs": []
    },
    {
      "cell_type": "code",
      "metadata": {
        "id": "CjEE1sphwZcp"
      },
      "source": [
        "X_train, X_val, y_train, y_val = train_test_split(X, Y, test_size=0.2, random_state=42)"
      ],
      "execution_count": 29,
      "outputs": []
    },
    {
      "cell_type": "markdown",
      "metadata": {
        "id": "karuKosrA7TX"
      },
      "source": [
        "## Dataset"
      ]
    },
    {
      "cell_type": "code",
      "metadata": {
        "id": "hmlHJIfGwZcr"
      },
      "source": [
        "def normalize(im):\n",
        "    \"\"\"Normalizes images with Imagenet stats.\"\"\"\n",
        "    imagenet_stats = np.array([[0.485, 0.456, 0.406], [0.229, 0.224, 0.225]])\n",
        "    return (im - imagenet_stats[0])/imagenet_stats[1]"
      ],
      "execution_count": 30,
      "outputs": []
    },
    {
      "cell_type": "code",
      "metadata": {
        "id": "EwlkyzvlwZct"
      },
      "source": [
        "class RoadDataset(Dataset):\n",
        "    def __init__(self, paths, bb, y, transforms=False):\n",
        "        self.transforms = transforms\n",
        "        self.paths = paths.values\n",
        "        self.bb = bb.values\n",
        "        self.y = y.values\n",
        "    def __len__(self):\n",
        "        return len(self.paths)\n",
        "    \n",
        "    def __getitem__(self, idx):\n",
        "        path = self.paths[idx]\n",
        "        y_class = self.y[idx]\n",
        "        x, y_bb = transformsXY(path, self.bb[idx], self.transforms)\n",
        "        x = normalize(x)\n",
        "        x = np.rollaxis(x, 2)\n",
        "        return x, y_class, y_bb"
      ],
      "execution_count": 31,
      "outputs": []
    },
    {
      "cell_type": "code",
      "metadata": {
        "id": "k2mNO1SlwZcu"
      },
      "source": [
        "train_ds = RoadDataset(X_train['new_path'],X_train['new_bb'] ,y_train, transforms=True)\n",
        "valid_ds = RoadDataset(X_val['new_path'],X_val['new_bb'],y_val)"
      ],
      "execution_count": 32,
      "outputs": []
    },
    {
      "cell_type": "code",
      "metadata": {
        "id": "5-kmXkYzwZcw"
      },
      "source": [
        "batch_size = 64\n",
        "train_dl = DataLoader(train_ds, batch_size=batch_size, shuffle=True)\n",
        "valid_dl = DataLoader(valid_ds, batch_size=batch_size)"
      ],
      "execution_count": 33,
      "outputs": []
    },
    {
      "cell_type": "code",
      "metadata": {
        "id": "Kt9i1w9Lya4A",
        "colab": {
          "base_uri": "https://localhost:8080/",
          "height": 1000,
          "referenced_widgets": [
            "c8721f59609f47d99c2f495160a151c3",
            "43240c83107e48aea889c788e440544f",
            "8415fa7cda6e452191c3a3cea7156f10",
            "1235e32307164f4793eef7f9a26999a1",
            "95a6adcee9954e0fb69b69476be7b097",
            "67a5c7b8bc3b43fc8b83476eb5c8c5c1",
            "581dfe81f90b4d2b94b6b84c45722fd9",
            "971b76ae9c54428992729d4da6b2e012"
          ]
        },
        "outputId": "d1db6d48-a677-4c35-a988-9a6a989f5658"
      },
      "source": [
        "resnet = models.resnet34(pretrained=True)\n",
        "resnet"
      ],
      "execution_count": 34,
      "outputs": [
        {
          "output_type": "stream",
          "text": [
            "Downloading: \"https://download.pytorch.org/models/resnet34-333f7ec4.pth\" to /root/.cache/torch/hub/checkpoints/resnet34-333f7ec4.pth\n"
          ],
          "name": "stderr"
        },
        {
          "output_type": "display_data",
          "data": {
            "application/vnd.jupyter.widget-view+json": {
              "model_id": "c8721f59609f47d99c2f495160a151c3",
              "version_minor": 0,
              "version_major": 2
            },
            "text/plain": [
              "HBox(children=(FloatProgress(value=0.0, max=87306240.0), HTML(value='')))"
            ]
          },
          "metadata": {
            "tags": []
          }
        },
        {
          "output_type": "stream",
          "text": [
            "\n"
          ],
          "name": "stdout"
        },
        {
          "output_type": "execute_result",
          "data": {
            "text/plain": [
              "ResNet(\n",
              "  (conv1): Conv2d(3, 64, kernel_size=(7, 7), stride=(2, 2), padding=(3, 3), bias=False)\n",
              "  (bn1): BatchNorm2d(64, eps=1e-05, momentum=0.1, affine=True, track_running_stats=True)\n",
              "  (relu): ReLU(inplace=True)\n",
              "  (maxpool): MaxPool2d(kernel_size=3, stride=2, padding=1, dilation=1, ceil_mode=False)\n",
              "  (layer1): Sequential(\n",
              "    (0): BasicBlock(\n",
              "      (conv1): Conv2d(64, 64, kernel_size=(3, 3), stride=(1, 1), padding=(1, 1), bias=False)\n",
              "      (bn1): BatchNorm2d(64, eps=1e-05, momentum=0.1, affine=True, track_running_stats=True)\n",
              "      (relu): ReLU(inplace=True)\n",
              "      (conv2): Conv2d(64, 64, kernel_size=(3, 3), stride=(1, 1), padding=(1, 1), bias=False)\n",
              "      (bn2): BatchNorm2d(64, eps=1e-05, momentum=0.1, affine=True, track_running_stats=True)\n",
              "    )\n",
              "    (1): BasicBlock(\n",
              "      (conv1): Conv2d(64, 64, kernel_size=(3, 3), stride=(1, 1), padding=(1, 1), bias=False)\n",
              "      (bn1): BatchNorm2d(64, eps=1e-05, momentum=0.1, affine=True, track_running_stats=True)\n",
              "      (relu): ReLU(inplace=True)\n",
              "      (conv2): Conv2d(64, 64, kernel_size=(3, 3), stride=(1, 1), padding=(1, 1), bias=False)\n",
              "      (bn2): BatchNorm2d(64, eps=1e-05, momentum=0.1, affine=True, track_running_stats=True)\n",
              "    )\n",
              "    (2): BasicBlock(\n",
              "      (conv1): Conv2d(64, 64, kernel_size=(3, 3), stride=(1, 1), padding=(1, 1), bias=False)\n",
              "      (bn1): BatchNorm2d(64, eps=1e-05, momentum=0.1, affine=True, track_running_stats=True)\n",
              "      (relu): ReLU(inplace=True)\n",
              "      (conv2): Conv2d(64, 64, kernel_size=(3, 3), stride=(1, 1), padding=(1, 1), bias=False)\n",
              "      (bn2): BatchNorm2d(64, eps=1e-05, momentum=0.1, affine=True, track_running_stats=True)\n",
              "    )\n",
              "  )\n",
              "  (layer2): Sequential(\n",
              "    (0): BasicBlock(\n",
              "      (conv1): Conv2d(64, 128, kernel_size=(3, 3), stride=(2, 2), padding=(1, 1), bias=False)\n",
              "      (bn1): BatchNorm2d(128, eps=1e-05, momentum=0.1, affine=True, track_running_stats=True)\n",
              "      (relu): ReLU(inplace=True)\n",
              "      (conv2): Conv2d(128, 128, kernel_size=(3, 3), stride=(1, 1), padding=(1, 1), bias=False)\n",
              "      (bn2): BatchNorm2d(128, eps=1e-05, momentum=0.1, affine=True, track_running_stats=True)\n",
              "      (downsample): Sequential(\n",
              "        (0): Conv2d(64, 128, kernel_size=(1, 1), stride=(2, 2), bias=False)\n",
              "        (1): BatchNorm2d(128, eps=1e-05, momentum=0.1, affine=True, track_running_stats=True)\n",
              "      )\n",
              "    )\n",
              "    (1): BasicBlock(\n",
              "      (conv1): Conv2d(128, 128, kernel_size=(3, 3), stride=(1, 1), padding=(1, 1), bias=False)\n",
              "      (bn1): BatchNorm2d(128, eps=1e-05, momentum=0.1, affine=True, track_running_stats=True)\n",
              "      (relu): ReLU(inplace=True)\n",
              "      (conv2): Conv2d(128, 128, kernel_size=(3, 3), stride=(1, 1), padding=(1, 1), bias=False)\n",
              "      (bn2): BatchNorm2d(128, eps=1e-05, momentum=0.1, affine=True, track_running_stats=True)\n",
              "    )\n",
              "    (2): BasicBlock(\n",
              "      (conv1): Conv2d(128, 128, kernel_size=(3, 3), stride=(1, 1), padding=(1, 1), bias=False)\n",
              "      (bn1): BatchNorm2d(128, eps=1e-05, momentum=0.1, affine=True, track_running_stats=True)\n",
              "      (relu): ReLU(inplace=True)\n",
              "      (conv2): Conv2d(128, 128, kernel_size=(3, 3), stride=(1, 1), padding=(1, 1), bias=False)\n",
              "      (bn2): BatchNorm2d(128, eps=1e-05, momentum=0.1, affine=True, track_running_stats=True)\n",
              "    )\n",
              "    (3): BasicBlock(\n",
              "      (conv1): Conv2d(128, 128, kernel_size=(3, 3), stride=(1, 1), padding=(1, 1), bias=False)\n",
              "      (bn1): BatchNorm2d(128, eps=1e-05, momentum=0.1, affine=True, track_running_stats=True)\n",
              "      (relu): ReLU(inplace=True)\n",
              "      (conv2): Conv2d(128, 128, kernel_size=(3, 3), stride=(1, 1), padding=(1, 1), bias=False)\n",
              "      (bn2): BatchNorm2d(128, eps=1e-05, momentum=0.1, affine=True, track_running_stats=True)\n",
              "    )\n",
              "  )\n",
              "  (layer3): Sequential(\n",
              "    (0): BasicBlock(\n",
              "      (conv1): Conv2d(128, 256, kernel_size=(3, 3), stride=(2, 2), padding=(1, 1), bias=False)\n",
              "      (bn1): BatchNorm2d(256, eps=1e-05, momentum=0.1, affine=True, track_running_stats=True)\n",
              "      (relu): ReLU(inplace=True)\n",
              "      (conv2): Conv2d(256, 256, kernel_size=(3, 3), stride=(1, 1), padding=(1, 1), bias=False)\n",
              "      (bn2): BatchNorm2d(256, eps=1e-05, momentum=0.1, affine=True, track_running_stats=True)\n",
              "      (downsample): Sequential(\n",
              "        (0): Conv2d(128, 256, kernel_size=(1, 1), stride=(2, 2), bias=False)\n",
              "        (1): BatchNorm2d(256, eps=1e-05, momentum=0.1, affine=True, track_running_stats=True)\n",
              "      )\n",
              "    )\n",
              "    (1): BasicBlock(\n",
              "      (conv1): Conv2d(256, 256, kernel_size=(3, 3), stride=(1, 1), padding=(1, 1), bias=False)\n",
              "      (bn1): BatchNorm2d(256, eps=1e-05, momentum=0.1, affine=True, track_running_stats=True)\n",
              "      (relu): ReLU(inplace=True)\n",
              "      (conv2): Conv2d(256, 256, kernel_size=(3, 3), stride=(1, 1), padding=(1, 1), bias=False)\n",
              "      (bn2): BatchNorm2d(256, eps=1e-05, momentum=0.1, affine=True, track_running_stats=True)\n",
              "    )\n",
              "    (2): BasicBlock(\n",
              "      (conv1): Conv2d(256, 256, kernel_size=(3, 3), stride=(1, 1), padding=(1, 1), bias=False)\n",
              "      (bn1): BatchNorm2d(256, eps=1e-05, momentum=0.1, affine=True, track_running_stats=True)\n",
              "      (relu): ReLU(inplace=True)\n",
              "      (conv2): Conv2d(256, 256, kernel_size=(3, 3), stride=(1, 1), padding=(1, 1), bias=False)\n",
              "      (bn2): BatchNorm2d(256, eps=1e-05, momentum=0.1, affine=True, track_running_stats=True)\n",
              "    )\n",
              "    (3): BasicBlock(\n",
              "      (conv1): Conv2d(256, 256, kernel_size=(3, 3), stride=(1, 1), padding=(1, 1), bias=False)\n",
              "      (bn1): BatchNorm2d(256, eps=1e-05, momentum=0.1, affine=True, track_running_stats=True)\n",
              "      (relu): ReLU(inplace=True)\n",
              "      (conv2): Conv2d(256, 256, kernel_size=(3, 3), stride=(1, 1), padding=(1, 1), bias=False)\n",
              "      (bn2): BatchNorm2d(256, eps=1e-05, momentum=0.1, affine=True, track_running_stats=True)\n",
              "    )\n",
              "    (4): BasicBlock(\n",
              "      (conv1): Conv2d(256, 256, kernel_size=(3, 3), stride=(1, 1), padding=(1, 1), bias=False)\n",
              "      (bn1): BatchNorm2d(256, eps=1e-05, momentum=0.1, affine=True, track_running_stats=True)\n",
              "      (relu): ReLU(inplace=True)\n",
              "      (conv2): Conv2d(256, 256, kernel_size=(3, 3), stride=(1, 1), padding=(1, 1), bias=False)\n",
              "      (bn2): BatchNorm2d(256, eps=1e-05, momentum=0.1, affine=True, track_running_stats=True)\n",
              "    )\n",
              "    (5): BasicBlock(\n",
              "      (conv1): Conv2d(256, 256, kernel_size=(3, 3), stride=(1, 1), padding=(1, 1), bias=False)\n",
              "      (bn1): BatchNorm2d(256, eps=1e-05, momentum=0.1, affine=True, track_running_stats=True)\n",
              "      (relu): ReLU(inplace=True)\n",
              "      (conv2): Conv2d(256, 256, kernel_size=(3, 3), stride=(1, 1), padding=(1, 1), bias=False)\n",
              "      (bn2): BatchNorm2d(256, eps=1e-05, momentum=0.1, affine=True, track_running_stats=True)\n",
              "    )\n",
              "  )\n",
              "  (layer4): Sequential(\n",
              "    (0): BasicBlock(\n",
              "      (conv1): Conv2d(256, 512, kernel_size=(3, 3), stride=(2, 2), padding=(1, 1), bias=False)\n",
              "      (bn1): BatchNorm2d(512, eps=1e-05, momentum=0.1, affine=True, track_running_stats=True)\n",
              "      (relu): ReLU(inplace=True)\n",
              "      (conv2): Conv2d(512, 512, kernel_size=(3, 3), stride=(1, 1), padding=(1, 1), bias=False)\n",
              "      (bn2): BatchNorm2d(512, eps=1e-05, momentum=0.1, affine=True, track_running_stats=True)\n",
              "      (downsample): Sequential(\n",
              "        (0): Conv2d(256, 512, kernel_size=(1, 1), stride=(2, 2), bias=False)\n",
              "        (1): BatchNorm2d(512, eps=1e-05, momentum=0.1, affine=True, track_running_stats=True)\n",
              "      )\n",
              "    )\n",
              "    (1): BasicBlock(\n",
              "      (conv1): Conv2d(512, 512, kernel_size=(3, 3), stride=(1, 1), padding=(1, 1), bias=False)\n",
              "      (bn1): BatchNorm2d(512, eps=1e-05, momentum=0.1, affine=True, track_running_stats=True)\n",
              "      (relu): ReLU(inplace=True)\n",
              "      (conv2): Conv2d(512, 512, kernel_size=(3, 3), stride=(1, 1), padding=(1, 1), bias=False)\n",
              "      (bn2): BatchNorm2d(512, eps=1e-05, momentum=0.1, affine=True, track_running_stats=True)\n",
              "    )\n",
              "    (2): BasicBlock(\n",
              "      (conv1): Conv2d(512, 512, kernel_size=(3, 3), stride=(1, 1), padding=(1, 1), bias=False)\n",
              "      (bn1): BatchNorm2d(512, eps=1e-05, momentum=0.1, affine=True, track_running_stats=True)\n",
              "      (relu): ReLU(inplace=True)\n",
              "      (conv2): Conv2d(512, 512, kernel_size=(3, 3), stride=(1, 1), padding=(1, 1), bias=False)\n",
              "      (bn2): BatchNorm2d(512, eps=1e-05, momentum=0.1, affine=True, track_running_stats=True)\n",
              "    )\n",
              "  )\n",
              "  (avgpool): AdaptiveAvgPool2d(output_size=(1, 1))\n",
              "  (fc): Linear(in_features=512, out_features=1000, bias=True)\n",
              ")"
            ]
          },
          "metadata": {
            "tags": []
          },
          "execution_count": 34
        }
      ]
    },
    {
      "cell_type": "code",
      "metadata": {
        "id": "iBKhSm-uyeai",
        "colab": {
          "base_uri": "https://localhost:8080/"
        },
        "outputId": "f17cc623-c591-4d42-ff26-12d9986e6ba7"
      },
      "source": [
        "layers = list(resnet.children())[:8]\n",
        "layers"
      ],
      "execution_count": 35,
      "outputs": [
        {
          "output_type": "execute_result",
          "data": {
            "text/plain": [
              "[Conv2d(3, 64, kernel_size=(7, 7), stride=(2, 2), padding=(3, 3), bias=False),\n",
              " BatchNorm2d(64, eps=1e-05, momentum=0.1, affine=True, track_running_stats=True),\n",
              " ReLU(inplace=True),\n",
              " MaxPool2d(kernel_size=3, stride=2, padding=1, dilation=1, ceil_mode=False),\n",
              " Sequential(\n",
              "   (0): BasicBlock(\n",
              "     (conv1): Conv2d(64, 64, kernel_size=(3, 3), stride=(1, 1), padding=(1, 1), bias=False)\n",
              "     (bn1): BatchNorm2d(64, eps=1e-05, momentum=0.1, affine=True, track_running_stats=True)\n",
              "     (relu): ReLU(inplace=True)\n",
              "     (conv2): Conv2d(64, 64, kernel_size=(3, 3), stride=(1, 1), padding=(1, 1), bias=False)\n",
              "     (bn2): BatchNorm2d(64, eps=1e-05, momentum=0.1, affine=True, track_running_stats=True)\n",
              "   )\n",
              "   (1): BasicBlock(\n",
              "     (conv1): Conv2d(64, 64, kernel_size=(3, 3), stride=(1, 1), padding=(1, 1), bias=False)\n",
              "     (bn1): BatchNorm2d(64, eps=1e-05, momentum=0.1, affine=True, track_running_stats=True)\n",
              "     (relu): ReLU(inplace=True)\n",
              "     (conv2): Conv2d(64, 64, kernel_size=(3, 3), stride=(1, 1), padding=(1, 1), bias=False)\n",
              "     (bn2): BatchNorm2d(64, eps=1e-05, momentum=0.1, affine=True, track_running_stats=True)\n",
              "   )\n",
              "   (2): BasicBlock(\n",
              "     (conv1): Conv2d(64, 64, kernel_size=(3, 3), stride=(1, 1), padding=(1, 1), bias=False)\n",
              "     (bn1): BatchNorm2d(64, eps=1e-05, momentum=0.1, affine=True, track_running_stats=True)\n",
              "     (relu): ReLU(inplace=True)\n",
              "     (conv2): Conv2d(64, 64, kernel_size=(3, 3), stride=(1, 1), padding=(1, 1), bias=False)\n",
              "     (bn2): BatchNorm2d(64, eps=1e-05, momentum=0.1, affine=True, track_running_stats=True)\n",
              "   )\n",
              " ),\n",
              " Sequential(\n",
              "   (0): BasicBlock(\n",
              "     (conv1): Conv2d(64, 128, kernel_size=(3, 3), stride=(2, 2), padding=(1, 1), bias=False)\n",
              "     (bn1): BatchNorm2d(128, eps=1e-05, momentum=0.1, affine=True, track_running_stats=True)\n",
              "     (relu): ReLU(inplace=True)\n",
              "     (conv2): Conv2d(128, 128, kernel_size=(3, 3), stride=(1, 1), padding=(1, 1), bias=False)\n",
              "     (bn2): BatchNorm2d(128, eps=1e-05, momentum=0.1, affine=True, track_running_stats=True)\n",
              "     (downsample): Sequential(\n",
              "       (0): Conv2d(64, 128, kernel_size=(1, 1), stride=(2, 2), bias=False)\n",
              "       (1): BatchNorm2d(128, eps=1e-05, momentum=0.1, affine=True, track_running_stats=True)\n",
              "     )\n",
              "   )\n",
              "   (1): BasicBlock(\n",
              "     (conv1): Conv2d(128, 128, kernel_size=(3, 3), stride=(1, 1), padding=(1, 1), bias=False)\n",
              "     (bn1): BatchNorm2d(128, eps=1e-05, momentum=0.1, affine=True, track_running_stats=True)\n",
              "     (relu): ReLU(inplace=True)\n",
              "     (conv2): Conv2d(128, 128, kernel_size=(3, 3), stride=(1, 1), padding=(1, 1), bias=False)\n",
              "     (bn2): BatchNorm2d(128, eps=1e-05, momentum=0.1, affine=True, track_running_stats=True)\n",
              "   )\n",
              "   (2): BasicBlock(\n",
              "     (conv1): Conv2d(128, 128, kernel_size=(3, 3), stride=(1, 1), padding=(1, 1), bias=False)\n",
              "     (bn1): BatchNorm2d(128, eps=1e-05, momentum=0.1, affine=True, track_running_stats=True)\n",
              "     (relu): ReLU(inplace=True)\n",
              "     (conv2): Conv2d(128, 128, kernel_size=(3, 3), stride=(1, 1), padding=(1, 1), bias=False)\n",
              "     (bn2): BatchNorm2d(128, eps=1e-05, momentum=0.1, affine=True, track_running_stats=True)\n",
              "   )\n",
              "   (3): BasicBlock(\n",
              "     (conv1): Conv2d(128, 128, kernel_size=(3, 3), stride=(1, 1), padding=(1, 1), bias=False)\n",
              "     (bn1): BatchNorm2d(128, eps=1e-05, momentum=0.1, affine=True, track_running_stats=True)\n",
              "     (relu): ReLU(inplace=True)\n",
              "     (conv2): Conv2d(128, 128, kernel_size=(3, 3), stride=(1, 1), padding=(1, 1), bias=False)\n",
              "     (bn2): BatchNorm2d(128, eps=1e-05, momentum=0.1, affine=True, track_running_stats=True)\n",
              "   )\n",
              " ),\n",
              " Sequential(\n",
              "   (0): BasicBlock(\n",
              "     (conv1): Conv2d(128, 256, kernel_size=(3, 3), stride=(2, 2), padding=(1, 1), bias=False)\n",
              "     (bn1): BatchNorm2d(256, eps=1e-05, momentum=0.1, affine=True, track_running_stats=True)\n",
              "     (relu): ReLU(inplace=True)\n",
              "     (conv2): Conv2d(256, 256, kernel_size=(3, 3), stride=(1, 1), padding=(1, 1), bias=False)\n",
              "     (bn2): BatchNorm2d(256, eps=1e-05, momentum=0.1, affine=True, track_running_stats=True)\n",
              "     (downsample): Sequential(\n",
              "       (0): Conv2d(128, 256, kernel_size=(1, 1), stride=(2, 2), bias=False)\n",
              "       (1): BatchNorm2d(256, eps=1e-05, momentum=0.1, affine=True, track_running_stats=True)\n",
              "     )\n",
              "   )\n",
              "   (1): BasicBlock(\n",
              "     (conv1): Conv2d(256, 256, kernel_size=(3, 3), stride=(1, 1), padding=(1, 1), bias=False)\n",
              "     (bn1): BatchNorm2d(256, eps=1e-05, momentum=0.1, affine=True, track_running_stats=True)\n",
              "     (relu): ReLU(inplace=True)\n",
              "     (conv2): Conv2d(256, 256, kernel_size=(3, 3), stride=(1, 1), padding=(1, 1), bias=False)\n",
              "     (bn2): BatchNorm2d(256, eps=1e-05, momentum=0.1, affine=True, track_running_stats=True)\n",
              "   )\n",
              "   (2): BasicBlock(\n",
              "     (conv1): Conv2d(256, 256, kernel_size=(3, 3), stride=(1, 1), padding=(1, 1), bias=False)\n",
              "     (bn1): BatchNorm2d(256, eps=1e-05, momentum=0.1, affine=True, track_running_stats=True)\n",
              "     (relu): ReLU(inplace=True)\n",
              "     (conv2): Conv2d(256, 256, kernel_size=(3, 3), stride=(1, 1), padding=(1, 1), bias=False)\n",
              "     (bn2): BatchNorm2d(256, eps=1e-05, momentum=0.1, affine=True, track_running_stats=True)\n",
              "   )\n",
              "   (3): BasicBlock(\n",
              "     (conv1): Conv2d(256, 256, kernel_size=(3, 3), stride=(1, 1), padding=(1, 1), bias=False)\n",
              "     (bn1): BatchNorm2d(256, eps=1e-05, momentum=0.1, affine=True, track_running_stats=True)\n",
              "     (relu): ReLU(inplace=True)\n",
              "     (conv2): Conv2d(256, 256, kernel_size=(3, 3), stride=(1, 1), padding=(1, 1), bias=False)\n",
              "     (bn2): BatchNorm2d(256, eps=1e-05, momentum=0.1, affine=True, track_running_stats=True)\n",
              "   )\n",
              "   (4): BasicBlock(\n",
              "     (conv1): Conv2d(256, 256, kernel_size=(3, 3), stride=(1, 1), padding=(1, 1), bias=False)\n",
              "     (bn1): BatchNorm2d(256, eps=1e-05, momentum=0.1, affine=True, track_running_stats=True)\n",
              "     (relu): ReLU(inplace=True)\n",
              "     (conv2): Conv2d(256, 256, kernel_size=(3, 3), stride=(1, 1), padding=(1, 1), bias=False)\n",
              "     (bn2): BatchNorm2d(256, eps=1e-05, momentum=0.1, affine=True, track_running_stats=True)\n",
              "   )\n",
              "   (5): BasicBlock(\n",
              "     (conv1): Conv2d(256, 256, kernel_size=(3, 3), stride=(1, 1), padding=(1, 1), bias=False)\n",
              "     (bn1): BatchNorm2d(256, eps=1e-05, momentum=0.1, affine=True, track_running_stats=True)\n",
              "     (relu): ReLU(inplace=True)\n",
              "     (conv2): Conv2d(256, 256, kernel_size=(3, 3), stride=(1, 1), padding=(1, 1), bias=False)\n",
              "     (bn2): BatchNorm2d(256, eps=1e-05, momentum=0.1, affine=True, track_running_stats=True)\n",
              "   )\n",
              " ),\n",
              " Sequential(\n",
              "   (0): BasicBlock(\n",
              "     (conv1): Conv2d(256, 512, kernel_size=(3, 3), stride=(2, 2), padding=(1, 1), bias=False)\n",
              "     (bn1): BatchNorm2d(512, eps=1e-05, momentum=0.1, affine=True, track_running_stats=True)\n",
              "     (relu): ReLU(inplace=True)\n",
              "     (conv2): Conv2d(512, 512, kernel_size=(3, 3), stride=(1, 1), padding=(1, 1), bias=False)\n",
              "     (bn2): BatchNorm2d(512, eps=1e-05, momentum=0.1, affine=True, track_running_stats=True)\n",
              "     (downsample): Sequential(\n",
              "       (0): Conv2d(256, 512, kernel_size=(1, 1), stride=(2, 2), bias=False)\n",
              "       (1): BatchNorm2d(512, eps=1e-05, momentum=0.1, affine=True, track_running_stats=True)\n",
              "     )\n",
              "   )\n",
              "   (1): BasicBlock(\n",
              "     (conv1): Conv2d(512, 512, kernel_size=(3, 3), stride=(1, 1), padding=(1, 1), bias=False)\n",
              "     (bn1): BatchNorm2d(512, eps=1e-05, momentum=0.1, affine=True, track_running_stats=True)\n",
              "     (relu): ReLU(inplace=True)\n",
              "     (conv2): Conv2d(512, 512, kernel_size=(3, 3), stride=(1, 1), padding=(1, 1), bias=False)\n",
              "     (bn2): BatchNorm2d(512, eps=1e-05, momentum=0.1, affine=True, track_running_stats=True)\n",
              "   )\n",
              "   (2): BasicBlock(\n",
              "     (conv1): Conv2d(512, 512, kernel_size=(3, 3), stride=(1, 1), padding=(1, 1), bias=False)\n",
              "     (bn1): BatchNorm2d(512, eps=1e-05, momentum=0.1, affine=True, track_running_stats=True)\n",
              "     (relu): ReLU(inplace=True)\n",
              "     (conv2): Conv2d(512, 512, kernel_size=(3, 3), stride=(1, 1), padding=(1, 1), bias=False)\n",
              "     (bn2): BatchNorm2d(512, eps=1e-05, momentum=0.1, affine=True, track_running_stats=True)\n",
              "   )\n",
              " )]"
            ]
          },
          "metadata": {
            "tags": []
          },
          "execution_count": 35
        }
      ]
    },
    {
      "cell_type": "markdown",
      "metadata": {
        "id": "k_2XV72qA-_F"
      },
      "source": [
        "## Model"
      ]
    },
    {
      "cell_type": "code",
      "metadata": {
        "id": "B7uCef1nwZcy"
      },
      "source": [
        "class BB_model(nn.Module):\n",
        "    def __init__(self):\n",
        "        super(BB_model, self).__init__()\n",
        "        resnet = models.resnet34(pretrained=True)\n",
        "        layers = list(resnet.children())[:8]\n",
        "        self.features1 = nn.Sequential(*layers[:6])\n",
        "        self.features2 = nn.Sequential(*layers[6:])\n",
        "        self.classifier = nn.Sequential(nn.BatchNorm1d(512), nn.Linear(512, 4))\n",
        "        self.bb = nn.Sequential(nn.BatchNorm1d(512), nn.Linear(512, 4))\n",
        "        \n",
        "    def forward(self, x):\n",
        "        x = self.features1(x)\n",
        "        x = self.features2(x)\n",
        "        x = F.relu(x)\n",
        "        x = nn.AdaptiveAvgPool2d((1,1))(x)\n",
        "        x = x.view(x.shape[0], -1)\n",
        "        return self.classifier(x), self.bb(x)"
      ],
      "execution_count": 36,
      "outputs": []
    },
    {
      "cell_type": "markdown",
      "metadata": {
        "id": "d24vmvCUBBTj"
      },
      "source": [
        "## Training"
      ]
    },
    {
      "cell_type": "code",
      "metadata": {
        "id": "VCTzKDBrbxuq"
      },
      "source": [
        "def update_optimizer(optimizer, lr):\n",
        "    for i, param_group in enumerate(optimizer.param_groups):\n",
        "        param_group[\"lr\"] = lr"
      ],
      "execution_count": 37,
      "outputs": []
    },
    {
      "cell_type": "code",
      "metadata": {
        "id": "y6ATTPTDbyy7"
      },
      "source": [
        "def train_epochs(model, optimizer, train_dl, val_dl, epochs=10, C=1000):\n",
        "    idx = 0\n",
        "    for i in range(epochs):\n",
        "        model.train()\n",
        "        total = 0\n",
        "        sum_loss = 0\n",
        "        for x, y_class, y_bb in train_dl:\n",
        "            batch = y_class.shape[0]\n",
        "            x = x.cuda().float()\n",
        "            y_class = y_class.cuda()\n",
        "            y_bb = y_bb.cuda().float()\n",
        "            out_class, out_bb = model(x)\n",
        "            loss_class = F.cross_entropy(out_class, y_class, reduction=\"sum\")\n",
        "            loss_bb = F.l1_loss(out_bb, y_bb, reduction=\"none\").sum(1)\n",
        "            loss_bb = loss_bb.sum()\n",
        "            loss = loss_class + loss_bb/C\n",
        "            optimizer.zero_grad()\n",
        "            loss.backward()\n",
        "            optimizer.step()\n",
        "            idx += 1\n",
        "            total += batch\n",
        "            sum_loss += loss.item()\n",
        "        train_loss = sum_loss/total\n",
        "        val_loss, val_acc = val_metrics(model, valid_dl, C)\n",
        "        print(\"train_loss %.3f val_loss %.3f val_acc %.3f\" % (train_loss, val_loss, val_acc))\n",
        "    return sum_loss/total\n"
      ],
      "execution_count": 38,
      "outputs": []
    },
    {
      "cell_type": "code",
      "metadata": {
        "id": "daavyldBwZc3"
      },
      "source": [
        "def val_metrics(model, valid_dl, C=1000):\n",
        "    model.eval()\n",
        "    total = 0\n",
        "    sum_loss = 0\n",
        "    correct = 0 \n",
        "    for x, y_class, y_bb in valid_dl:\n",
        "        batch = y_class.shape[0]\n",
        "        x = x.cuda().float()\n",
        "        y_class = y_class.cuda()\n",
        "        y_bb = y_bb.cuda().float()\n",
        "        out_class, out_bb = model(x)\n",
        "        loss_class = F.cross_entropy(out_class, y_class, reduction=\"sum\")\n",
        "        loss_bb = F.l1_loss(out_bb, y_bb, reduction=\"none\").sum(1)\n",
        "        loss_bb = loss_bb.sum()\n",
        "        loss = loss_class + loss_bb/C\n",
        "        _, pred = torch.max(out_class, 1)\n",
        "        correct += pred.eq(y_class).sum().item()\n",
        "        sum_loss += loss.item()\n",
        "        total += batch\n",
        "    return sum_loss/total, correct/total"
      ],
      "execution_count": 39,
      "outputs": []
    },
    {
      "cell_type": "markdown",
      "metadata": {
        "id": "zs0446RbTa8q"
      },
      "source": [
        "What are [filters](https://www.geeksforgeeks.org/filter-in-python/)? \n",
        "\n",
        "Filters is normally used with Lambda functions to separate list, tuple, or sets."
      ]
    },
    {
      "cell_type": "code",
      "metadata": {
        "id": "GoxG0vlRwZc8"
      },
      "source": [
        "model = BB_model().cuda()\n",
        "parameters = filter(lambda p: p.requires_grad, model.parameters())\n",
        "optimizer = torch.optim.Adam(parameters, lr=0.006)"
      ],
      "execution_count": 40,
      "outputs": []
    },
    {
      "cell_type": "code",
      "metadata": {
        "id": "JEqEUWejcrez",
        "colab": {
          "base_uri": "https://localhost:8080/"
        },
        "outputId": "63ec9d69-77c9-4bf6-dc6a-116e69cc7925"
      },
      "source": [
        "train_epochs(model, optimizer, train_dl, valid_dl, epochs=15)"
      ],
      "execution_count": 41,
      "outputs": [
        {
          "output_type": "stream",
          "text": [
            "train_loss 2.407 val_loss 647037.398 val_acc 0.085\n",
            "train_loss 1.679 val_loss 320.093 val_acc 0.341\n",
            "train_loss 1.619 val_loss 7.485 val_acc 0.659\n",
            "train_loss 1.292 val_loss 3.851 val_acc 0.739\n",
            "train_loss 1.138 val_loss 1.193 val_acc 0.750\n",
            "train_loss 0.962 val_loss 1.036 val_acc 0.727\n",
            "train_loss 0.940 val_loss 0.890 val_acc 0.773\n",
            "train_loss 0.886 val_loss 0.988 val_acc 0.761\n",
            "train_loss 0.861 val_loss 0.913 val_acc 0.739\n",
            "train_loss 0.850 val_loss 1.000 val_acc 0.733\n",
            "train_loss 0.834 val_loss 0.924 val_acc 0.750\n",
            "train_loss 0.860 val_loss 2.132 val_acc 0.682\n",
            "train_loss 0.929 val_loss 1.046 val_acc 0.739\n",
            "train_loss 0.888 val_loss 1.702 val_acc 0.648\n",
            "train_loss 1.033 val_loss 18.009 val_acc 0.267\n"
          ],
          "name": "stdout"
        },
        {
          "output_type": "execute_result",
          "data": {
            "text/plain": [
              "1.033183899143453"
            ]
          },
          "metadata": {
            "tags": []
          },
          "execution_count": 41
        }
      ]
    },
    {
      "cell_type": "code",
      "metadata": {
        "id": "sJ1bTvQApRg-",
        "colab": {
          "base_uri": "https://localhost:8080/"
        },
        "outputId": "d917737d-535e-49af-a89b-3c2c299b2a5b"
      },
      "source": [
        "update_optimizer(optimizer, 0.001)\n",
        "train_epochs(model, optimizer, train_dl, valid_dl, epochs=10)"
      ],
      "execution_count": 42,
      "outputs": [
        {
          "output_type": "stream",
          "text": [
            "train_loss 0.907 val_loss 1.059 val_acc 0.710\n",
            "train_loss 0.851 val_loss 0.978 val_acc 0.739\n",
            "train_loss 0.859 val_loss 1.053 val_acc 0.744\n",
            "train_loss 0.826 val_loss 0.866 val_acc 0.767\n",
            "train_loss 0.807 val_loss 0.877 val_acc 0.756\n",
            "train_loss 0.795 val_loss 0.887 val_acc 0.756\n",
            "train_loss 0.808 val_loss 0.879 val_acc 0.750\n",
            "train_loss 0.793 val_loss 1.026 val_acc 0.750\n",
            "train_loss 0.778 val_loss 0.844 val_acc 0.744\n",
            "train_loss 0.776 val_loss 0.861 val_acc 0.756\n"
          ],
          "name": "stdout"
        },
        {
          "output_type": "execute_result",
          "data": {
            "text/plain": [
              "0.7759152519889974"
            ]
          },
          "metadata": {
            "tags": []
          },
          "execution_count": 42
        }
      ]
    },
    {
      "cell_type": "markdown",
      "metadata": {
        "id": "EA9wulub1bAg"
      },
      "source": [
        "### Making predictions"
      ]
    },
    {
      "cell_type": "code",
      "metadata": {
        "id": "u3M2Z4INkFNn",
        "colab": {
          "base_uri": "https://localhost:8080/",
          "height": 419
        },
        "outputId": "c03746c9-cb26-4186-debd-956eca24c7f1"
      },
      "source": [
        "# choose random image from validation set\n",
        "X_val"
      ],
      "execution_count": 43,
      "outputs": [
        {
          "output_type": "execute_result",
          "data": {
            "text/html": [
              "<div>\n",
              "<style scoped>\n",
              "    .dataframe tbody tr th:only-of-type {\n",
              "        vertical-align: middle;\n",
              "    }\n",
              "\n",
              "    .dataframe tbody tr th {\n",
              "        vertical-align: top;\n",
              "    }\n",
              "\n",
              "    .dataframe thead th {\n",
              "        text-align: right;\n",
              "    }\n",
              "</style>\n",
              "<table border=\"1\" class=\"dataframe\">\n",
              "  <thead>\n",
              "    <tr style=\"text-align: right;\">\n",
              "      <th></th>\n",
              "      <th>new_path</th>\n",
              "      <th>new_bb</th>\n",
              "    </tr>\n",
              "  </thead>\n",
              "  <tbody>\n",
              "    <tr>\n",
              "      <th>710</th>\n",
              "      <td>road-sign-detection/images_resized/road62.png</td>\n",
              "      <td>[84.0, 210.0, 150.0, 360.0]</td>\n",
              "    </tr>\n",
              "    <tr>\n",
              "      <th>734</th>\n",
              "      <td>road-sign-detection/images_resized/road551.png</td>\n",
              "      <td>[157.0, 165.0, 203.0, 255.0]</td>\n",
              "    </tr>\n",
              "    <tr>\n",
              "      <th>244</th>\n",
              "      <td>road-sign-detection/images_resized/road369.png</td>\n",
              "      <td>[105.0, 157.0, 145.0, 238.0]</td>\n",
              "    </tr>\n",
              "    <tr>\n",
              "      <th>231</th>\n",
              "      <td>road-sign-detection/images_resized/road308.png</td>\n",
              "      <td>[99.0, 144.0, 128.0, 204.0]</td>\n",
              "    </tr>\n",
              "    <tr>\n",
              "      <th>291</th>\n",
              "      <td>road-sign-detection/images_resized/road726.png</td>\n",
              "      <td>[117.0, 203.0, 178.0, 326.0]</td>\n",
              "    </tr>\n",
              "    <tr>\n",
              "      <th>...</th>\n",
              "      <td>...</td>\n",
              "      <td>...</td>\n",
              "    </tr>\n",
              "    <tr>\n",
              "      <th>500</th>\n",
              "      <td>road-sign-detection/images_resized/road137.png</td>\n",
              "      <td>[42.0, 231.0, 184.0, 373.0]</td>\n",
              "    </tr>\n",
              "    <tr>\n",
              "      <th>215</th>\n",
              "      <td>road-sign-detection/images_resized/road814.png</td>\n",
              "      <td>[119.0, 178.0, 144.0, 228.0]</td>\n",
              "    </tr>\n",
              "    <tr>\n",
              "      <th>350</th>\n",
              "      <td>road-sign-detection/images_resized/road180.png</td>\n",
              "      <td>[57.0, 117.0, 147.0, 246.0]</td>\n",
              "    </tr>\n",
              "    <tr>\n",
              "      <th>81</th>\n",
              "      <td>road-sign-detection/images_resized/road696.png</td>\n",
              "      <td>[161.0, 206.0, 181.0, 246.0]</td>\n",
              "    </tr>\n",
              "    <tr>\n",
              "      <th>677</th>\n",
              "      <td>road-sign-detection/images_resized/road342.png</td>\n",
              "      <td>[0.0, 221.0, 71.0, 398.0]</td>\n",
              "    </tr>\n",
              "  </tbody>\n",
              "</table>\n",
              "<p>176 rows × 2 columns</p>\n",
              "</div>"
            ],
            "text/plain": [
              "                                           new_path                        new_bb\n",
              "710   road-sign-detection/images_resized/road62.png   [84.0, 210.0, 150.0, 360.0]\n",
              "734  road-sign-detection/images_resized/road551.png  [157.0, 165.0, 203.0, 255.0]\n",
              "244  road-sign-detection/images_resized/road369.png  [105.0, 157.0, 145.0, 238.0]\n",
              "231  road-sign-detection/images_resized/road308.png   [99.0, 144.0, 128.0, 204.0]\n",
              "291  road-sign-detection/images_resized/road726.png  [117.0, 203.0, 178.0, 326.0]\n",
              "..                                              ...                           ...\n",
              "500  road-sign-detection/images_resized/road137.png   [42.0, 231.0, 184.0, 373.0]\n",
              "215  road-sign-detection/images_resized/road814.png  [119.0, 178.0, 144.0, 228.0]\n",
              "350  road-sign-detection/images_resized/road180.png   [57.0, 117.0, 147.0, 246.0]\n",
              "81   road-sign-detection/images_resized/road696.png  [161.0, 206.0, 181.0, 246.0]\n",
              "677  road-sign-detection/images_resized/road342.png     [0.0, 221.0, 71.0, 398.0]\n",
              "\n",
              "[176 rows x 2 columns]"
            ]
          },
          "metadata": {
            "tags": []
          },
          "execution_count": 43
        }
      ]
    },
    {
      "cell_type": "code",
      "metadata": {
        "id": "R_9FQRCbwZdD",
        "colab": {
          "base_uri": "https://localhost:8080/"
        },
        "outputId": "216ae682-7e00-443c-9bf3-4afe1a793db5"
      },
      "source": [
        "# resizing test image\n",
        "im = read_image('./road-sign-detection/images_resized/road789.png')\n",
        "im = cv2.resize(im, (int(1.49*300), 300))\n",
        "if not os.path.isdir( './road-sign-detection/road_signs_test' ) :\n",
        "    os.mkdir( './road-sign-detection/road_signs_test' )  # make sure the directory exists\n",
        "cv2.imwrite('./road-sign-detection/road_signs_test/road789.jpg', cv2.cvtColor(im, cv2.COLOR_RGB2BGR))"
      ],
      "execution_count": 44,
      "outputs": [
        {
          "output_type": "execute_result",
          "data": {
            "text/plain": [
              "True"
            ]
          },
          "metadata": {
            "tags": []
          },
          "execution_count": 44
        }
      ]
    },
    {
      "cell_type": "code",
      "metadata": {
        "id": "UQQj6CyO1dbk"
      },
      "source": [
        "# test Dataset\n",
        "test_ds = RoadDataset(pd.DataFrame([{'path':'./road-sign-detection/road_signs_test/road789.jpg'}])['path'],pd.DataFrame([{'bb':np.array([0,0,0,0])}])['bb'],pd.DataFrame([{'y':[0]}])['y'])\n",
        "x, y_class, y_bb = test_ds[0]"
      ],
      "execution_count": 45,
      "outputs": []
    },
    {
      "cell_type": "code",
      "metadata": {
        "id": "zYbaJueR2u9H",
        "colab": {
          "base_uri": "https://localhost:8080/"
        },
        "outputId": "69aca195-a996-4b96-ef2e-dfcba1b6da03"
      },
      "source": [
        "xx = torch.FloatTensor(x[None,])\n",
        "xx.shape"
      ],
      "execution_count": 46,
      "outputs": [
        {
          "output_type": "execute_result",
          "data": {
            "text/plain": [
              "torch.Size([1, 3, 284, 423])"
            ]
          },
          "metadata": {
            "tags": []
          },
          "execution_count": 46
        }
      ]
    },
    {
      "cell_type": "code",
      "metadata": {
        "id": "Ov045nHY22q_",
        "colab": {
          "base_uri": "https://localhost:8080/"
        },
        "outputId": "75c0e3ec-0270-4ab8-dc1f-3fb351a7bb0a"
      },
      "source": [
        "# prediction\n",
        "out_class, out_bb = model(xx.cuda())\n",
        "out_class, out_bb"
      ],
      "execution_count": 47,
      "outputs": [
        {
          "output_type": "execute_result",
          "data": {
            "text/plain": [
              "(tensor([[ 1.7325, -1.3075, -1.2458, -1.7411]], device='cuda:0',\n",
              "        grad_fn=<AddmmBackward>),\n",
              " tensor([[104.5591, 166.3988, 154.1984, 249.0568]], device='cuda:0',\n",
              "        grad_fn=<AddmmBackward>))"
            ]
          },
          "metadata": {
            "tags": []
          },
          "execution_count": 47
        }
      ]
    },
    {
      "cell_type": "code",
      "metadata": {
        "id": "iuQmX5zO24cp",
        "colab": {
          "base_uri": "https://localhost:8080/"
        },
        "outputId": "b9ca6655-19ca-4ff5-8893-f5af449f2d39"
      },
      "source": [
        "# predicted class\n",
        "torch.max(out_class, 1)"
      ],
      "execution_count": 48,
      "outputs": [
        {
          "output_type": "execute_result",
          "data": {
            "text/plain": [
              "torch.return_types.max(values=tensor([1.7325], device='cuda:0', grad_fn=<MaxBackward0>), indices=tensor([0], device='cuda:0'))"
            ]
          },
          "metadata": {
            "tags": []
          },
          "execution_count": 48
        }
      ]
    },
    {
      "cell_type": "markdown",
      "metadata": {
        "id": "6KYJWRQ86fil"
      },
      "source": [
        " Class predicted = speedlimit"
      ]
    },
    {
      "cell_type": "code",
      "metadata": {
        "id": "ceQDOd1Y26DE",
        "colab": {
          "base_uri": "https://localhost:8080/",
          "height": 269
        },
        "outputId": "21c85f87-017e-478b-d20a-d44362a12ed2"
      },
      "source": [
        "# predicted bounding box\n",
        "bb_hat = out_bb.detach().cpu().numpy()\n",
        "bb_hat = bb_hat.astype(int)\n",
        "show_corner_bb(im, bb_hat[0])"
      ],
      "execution_count": 49,
      "outputs": [
        {
          "output_type": "display_data",
          "data": {
            "image/png": "[encoded data removed]",
            "text/plain": [
              "<Figure size 432x288 with 1 Axes>"
            ]
          },
          "metadata": {
            "tags": [],
            "needs_background": "light"
          }
        }
      ]
    },
    {
      "cell_type": "code",
      "metadata": {
        "id": "sdShV1dE6fin"
      },
      "source": [
        ""
      ],
      "execution_count": 49,
      "outputs": []
    }
  ]
}